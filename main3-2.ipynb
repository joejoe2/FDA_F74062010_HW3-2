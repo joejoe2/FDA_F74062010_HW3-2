{
 "cells": [
  {
   "cell_type": "code",
   "execution_count": 1,
   "metadata": {},
   "outputs": [],
   "source": [
    "import warnings\n",
    "warnings.filterwarnings('ignore')"
   ]
  },
  {
   "cell_type": "code",
   "execution_count": 2,
   "metadata": {},
   "outputs": [],
   "source": [
    "import pandas as pd\n",
    "from sklearn.metrics import accuracy_score\n",
    "from sklearn.svm import SVC\n",
    "from sklearn.ensemble import RandomForestClassifier\n",
    "from sklearn.ensemble import VotingClassifier\n",
    "from sklearn.linear_model import LogisticRegression"
   ]
  },
  {
   "cell_type": "markdown",
   "metadata": {},
   "source": [
    "# Data selection\n",
    "https://archive.ics.uci.edu/ml/datasets/Electrical+Grid+Stability+Simulated+Data+#\n",
    "\n"
   ]
  },
  {
   "cell_type": "markdown",
   "metadata": {},
   "source": [
    "# Problem define\n",
    "\n",
    "預測系統是否穩定"
   ]
  },
  {
   "cell_type": "markdown",
   "metadata": {},
   "source": [
    "# Observation"
   ]
  },
  {
   "cell_type": "code",
   "execution_count": 3,
   "metadata": {},
   "outputs": [
    {
     "name": "stdout",
     "output_type": "stream",
     "text": [
      "<class 'pandas.core.frame.DataFrame'>\n",
      "RangeIndex: 10000 entries, 0 to 9999\n",
      "Data columns (total 14 columns):\n",
      "tau1     10000 non-null float64\n",
      "tau2     10000 non-null float64\n",
      "tau3     10000 non-null float64\n",
      "tau4     10000 non-null float64\n",
      "p1       10000 non-null float64\n",
      "p2       10000 non-null float64\n",
      "p3       10000 non-null float64\n",
      "p4       10000 non-null float64\n",
      "g1       10000 non-null float64\n",
      "g2       10000 non-null float64\n",
      "g3       10000 non-null float64\n",
      "g4       10000 non-null float64\n",
      "stab     10000 non-null float64\n",
      "stabf    10000 non-null object\n",
      "dtypes: float64(13), object(1)\n",
      "memory usage: 1.1+ MB\n",
      "None\n",
      "               tau1          tau2          tau3          tau4            p1  \\\n",
      "count  10000.000000  10000.000000  10000.000000  10000.000000  10000.000000   \n",
      "mean       5.250000      5.250001      5.250004      5.249997      3.750000   \n",
      "std        2.742548      2.742549      2.742549      2.742556      0.752160   \n",
      "min        0.500793      0.500141      0.500788      0.500473      1.582590   \n",
      "25%        2.874892      2.875140      2.875522      2.874950      3.218300   \n",
      "50%        5.250004      5.249981      5.249979      5.249734      3.751025   \n",
      "75%        7.624690      7.624893      7.624948      7.624838      4.282420   \n",
      "max        9.999469      9.999837      9.999450      9.999443      5.864418   \n",
      "\n",
      "                 p2            p3            p4            g1            g2  \\\n",
      "count  10000.000000  10000.000000  10000.000000  10000.000000  10000.000000   \n",
      "mean      -1.250000     -1.250000     -1.250000      0.525000      0.525000   \n",
      "std        0.433035      0.433035      0.433035      0.274256      0.274255   \n",
      "min       -1.999891     -1.999945     -1.999926      0.050009      0.050053   \n",
      "25%       -1.624901     -1.625025     -1.624960      0.287521      0.287552   \n",
      "50%       -1.249966     -1.249974     -1.250007      0.525009      0.525003   \n",
      "75%       -0.874977     -0.875043     -0.875065      0.762435      0.762490   \n",
      "max       -0.500108     -0.500072     -0.500025      0.999937      0.999944   \n",
      "\n",
      "                 g3            g4          stab  \n",
      "count  10000.000000  10000.000000  10000.000000  \n",
      "mean       0.525000      0.525000      0.015731  \n",
      "std        0.274255      0.274255      0.036919  \n",
      "min        0.050054      0.050028     -0.080760  \n",
      "25%        0.287514      0.287494     -0.015557  \n",
      "50%        0.525015      0.525002      0.017142  \n",
      "75%        0.762440      0.762433      0.044878  \n",
      "max        0.999982      0.999930      0.109403  \n",
      "       tau1      tau2      tau3      tau4        p1        p2        p3  \\\n",
      "0  2.959060  3.079885  8.381025  9.780754  3.763085 -0.782604 -1.257395   \n",
      "1  9.304097  4.902524  3.047541  1.369357  5.067812 -1.940058 -1.872742   \n",
      "2  8.971707  8.848428  3.046479  1.214518  3.405158 -1.207456 -1.277210   \n",
      "3  0.716415  7.669600  4.486641  2.340563  3.963791 -1.027473 -1.938944   \n",
      "4  3.134112  7.608772  4.943759  9.857573  3.525811 -1.125531 -1.845975   \n",
      "\n",
      "         p4        g1        g2        g3        g4      stab     stabf  \n",
      "0 -1.723086  0.650456  0.859578  0.887445  0.958034  0.055347  unstable  \n",
      "1 -1.255012  0.413441  0.862414  0.562139  0.781760 -0.005957    stable  \n",
      "2 -0.920492  0.163041  0.766689  0.839444  0.109853  0.003471  unstable  \n",
      "3 -0.997374  0.446209  0.976744  0.929381  0.362718  0.028871  unstable  \n",
      "4 -0.554305  0.797110  0.455450  0.656947  0.820923  0.049860  unstable  \n"
     ]
    }
   ],
   "source": [
    "data = pd.read_csv(\"Data_for_UCI_named.csv\")\n",
    "\n",
    "\n",
    "\n",
    "print(data.info())\n",
    "print(data.describe())\n",
    "print(data.head())\n",
    "\n",
    "# 分割trainset和testset\n",
    "test = data[8000:]\n",
    "data = data[:8000]"
   ]
  },
  {
   "cell_type": "markdown",
   "metadata": {},
   "source": [
    "stab,stabf是和穩定直接相關的值，不考慮做特徵\n",
    "剩下的又以tau1, tau2, tau3, tau4, g1, g2, g3, g4 欄位和 stab,stabf 相關度較高，故考慮作為特徵"
   ]
  },
  {
   "cell_type": "code",
   "execution_count": 4,
   "metadata": {},
   "outputs": [
    {
     "name": "stdout",
     "output_type": "stream",
     "text": [
      "           tau1      tau2      tau3      tau4        p1        p2        p3  \\\n",
      "tau1   1.000000  0.017850 -0.005636 -0.026600  0.027020 -0.012637 -0.012770   \n",
      "tau2   0.017850  1.000000  0.016199 -0.004845 -0.007029  0.006309  0.010765   \n",
      "tau3  -0.005636  0.016199  1.000000  0.001828  0.023754 -0.011417 -0.013230   \n",
      "tau4  -0.026600 -0.004845  0.001828  1.000000 -0.001910  0.013132  0.003682   \n",
      "p1     0.027020 -0.007029  0.023754 -0.001910  1.000000 -0.566958 -0.586881   \n",
      "p2    -0.012637  0.006309 -0.011417  0.013132 -0.566958  1.000000 -0.003291   \n",
      "p3    -0.012770  0.010765 -0.013230  0.003682 -0.586881 -0.003291  1.000000   \n",
      "p4    -0.021418 -0.004935 -0.016505 -0.013511 -0.578513 -0.012077  0.015901   \n",
      "g1     0.016730 -0.004182 -0.006658 -0.004155  0.007875  0.016238 -0.009597   \n",
      "g2     0.018458  0.029437 -0.001149  0.004132  0.020186 -0.019218 -0.015035   \n",
      "g3     0.005032  0.013988  0.014070 -0.002416 -0.000775  0.009069 -0.005191   \n",
      "g4     0.007672 -0.012708 -0.015641 -0.008245 -0.003471  0.012101 -0.010904   \n",
      "stab   0.284568  0.295903  0.280357  0.265811  0.015566  0.003352 -0.003554   \n",
      "stabf -0.245580 -0.253324 -0.239990 -0.229256 -0.013787 -0.005944  0.002682   \n",
      "\n",
      "             p4        g1        g2        g3        g4      stab     stabf  \n",
      "tau1  -0.021418  0.016730  0.018458  0.005032  0.007672  0.284568 -0.245580  \n",
      "tau2  -0.004935 -0.004182  0.029437  0.013988 -0.012708  0.295903 -0.253324  \n",
      "tau3  -0.016505 -0.006658 -0.001149  0.014070 -0.015641  0.280357 -0.239990  \n",
      "tau4  -0.013511 -0.004155  0.004132 -0.002416 -0.008245  0.265811 -0.229256  \n",
      "p1    -0.578513  0.007875  0.020186 -0.000775 -0.003471  0.015566 -0.013787  \n",
      "p2    -0.012077  0.016238 -0.019218  0.009069  0.012101  0.003352 -0.005944  \n",
      "p3     0.015901 -0.009597 -0.015035 -0.005191 -0.010904 -0.003554  0.002682  \n",
      "p4     1.000000 -0.020239 -0.000704 -0.002496  0.004900 -0.026788  0.027167  \n",
      "g1    -0.020239  1.000000  0.003539  0.005018  0.003301  0.288616 -0.208214  \n",
      "g2    -0.000704  0.003539  1.000000 -0.014175 -0.015855  0.287859 -0.210687  \n",
      "g3    -0.002496  0.005018 -0.014175  1.000000  0.016836  0.314619 -0.239425  \n",
      "g4     0.004900  0.003301 -0.015855  0.016836  1.000000  0.279347 -0.201649  \n",
      "stab  -0.026788  0.288616  0.287859  0.314619  0.279347  1.000000 -0.826836  \n",
      "stabf  0.027167 -0.208214 -0.210687 -0.239425 -0.201649 -0.826836  1.000000  \n"
     ]
    }
   ],
   "source": [
    "data['stabf'] = data['stabf'].map({'stable': 1, 'unstable': -1})\n",
    "test['stabf'] = test['stabf'].map({'stable': 1, 'unstable': -1})\n",
    "print(data.corr())"
   ]
  },
  {
   "cell_type": "markdown",
   "metadata": {},
   "source": [
    "# trainnig"
   ]
  },
  {
   "cell_type": "markdown",
   "metadata": {},
   "source": [
    "分出訓練及測試集"
   ]
  },
  {
   "cell_type": "code",
   "execution_count": 5,
   "metadata": {},
   "outputs": [],
   "source": [
    "train_y = data['stabf']\n",
    "test_y = test['stabf']\n",
    "\n",
    "train_x = data[['tau1', 'tau2', 'tau3', 'tau4', 'g1', 'g2', 'g3', 'g4']]\n",
    "test_x = test[['tau1', 'tau2', 'tau3', 'tau4', 'g1', 'g2', 'g3', 'g4']]"
   ]
  },
  {
   "cell_type": "markdown",
   "metadata": {},
   "source": [
    "先來個基本的RandomForestClassifier試看看"
   ]
  },
  {
   "cell_type": "code",
   "execution_count": 6,
   "metadata": {},
   "outputs": [
    {
     "name": "stdout",
     "output_type": "stream",
     "text": [
      "1.0\n",
      "0.9075\n"
     ]
    }
   ],
   "source": [
    "model = RandomForestClassifier(n_estimators=64, random_state=1012, n_jobs=-1)\n",
    "model.fit(train_x, train_y)\n",
    "print(accuracy_score(train_y, model.predict(train_x)))\n",
    "print(accuracy_score(test_y, model.predict(test_x)))"
   ]
  },
  {
   "cell_type": "markdown",
   "metadata": {},
   "source": [
    "## 等等!! 怎麼馬上就overfitting了!? 我其他資料每個都試了1-2小時也才6-7成阿 !!?\n",
    "好吧...還是繼續來改善..."
   ]
  },
  {
   "cell_type": "markdown",
   "metadata": {},
   "source": [
    "跟LogisticRegression分類器組合看看吧(加入不同觀點看是否有幫助)"
   ]
  },
  {
   "cell_type": "code",
   "execution_count": 7,
   "metadata": {},
   "outputs": [
    {
     "name": "stdout",
     "output_type": "stream",
     "text": [
      "0.972875\n",
      "0.8635\n"
     ]
    }
   ],
   "source": [
    "dc_clf = RandomForestClassifier(n_estimators=64,random_state=1012, n_jobs=-1)\n",
    "svm_clf = SVC(random_state=1012, probability=True)\n",
    "lf = LogisticRegression(solver=\"liblinear\", random_state=1012)\n",
    "model = VotingClassifier(\n",
    "        estimators=[('rf', dc_clf), ('lf', lf)],\n",
    "        voting='soft',\n",
    "        weights=[1, 1]\n",
    ")\n",
    "model.fit(train_x, train_y)\n",
    "print(accuracy_score(train_y, model.predict(train_x)))\n",
    "print(accuracy_score(test_y, model.predict(test_x)))"
   ]
  },
  {
   "cell_type": "markdown",
   "metadata": {},
   "source": [
    "好像有好一點...\n",
    "再跟svc組合看看吧"
   ]
  },
  {
   "cell_type": "code",
   "execution_count": 8,
   "metadata": {},
   "outputs": [
    {
     "name": "stdout",
     "output_type": "stream",
     "text": [
      "0.972125\n",
      "0.905\n"
     ]
    }
   ],
   "source": [
    "dc_clf = RandomForestClassifier(n_estimators=64, random_state=1012, n_jobs=-1)\n",
    "svm_clf = SVC(random_state=1012, probability=True)\n",
    "lf = LogisticRegression(solver=\"liblinear\", random_state=1012)\n",
    "model = VotingClassifier(\n",
    "        estimators=[('rf', dc_clf), ('lf', lf), ('s', svm_clf)],\n",
    "        voting='soft',\n",
    "        weights=[1, 1, 1]\n",
    ")\n",
    "model.fit(train_x, train_y)\n",
    "print(accuracy_score(train_y, model.predict(train_x)))\n",
    "print(accuracy_score(test_y, model.predict(test_x)))"
   ]
  },
  {
   "cell_type": "markdown",
   "metadata": {},
   "source": [
    "還是不太夠...\n",
    "幫RandomForestClassifier加上max_depth限制好了"
   ]
  },
  {
   "cell_type": "code",
   "execution_count": 9,
   "metadata": {},
   "outputs": [
    {
     "name": "stdout",
     "output_type": "stream",
     "text": [
      "0.9265\n",
      "0.89\n"
     ]
    }
   ],
   "source": [
    "dc_clf = RandomForestClassifier(n_estimators=64, max_depth=5, random_state=1012, n_jobs=-1)\n",
    "svm_clf = SVC(random_state=1012, probability=True)\n",
    "lf = LogisticRegression(solver=\"liblinear\", random_state=1012)\n",
    "model = VotingClassifier(\n",
    "        estimators=[('rf', dc_clf), ('lf', lf), ('s', svm_clf)],\n",
    "        voting='soft',\n",
    "        weights=[1, 1, 1]\n",
    ")\n",
    "model.fit(train_x, train_y)\n",
    "print(accuracy_score(train_y, model.predict(train_x)))\n",
    "print(accuracy_score(test_y, model.predict(test_x)))"
   ]
  },
  {
   "cell_type": "markdown",
   "metadata": {},
   "source": [
    "恩這樣還差不多..."
   ]
  },
  {
   "cell_type": "markdown",
   "metadata": {},
   "source": [
    "### 不過這樣好像有點太簡單了...下面再繼續"
   ]
  },
  {
   "cell_type": "markdown",
   "metadata": {},
   "source": [
    "# Problem define-2"
   ]
  },
  {
   "cell_type": "markdown",
   "metadata": {},
   "source": [
    "預測系統穩定度的值(即stab欄位)"
   ]
  },
  {
   "cell_type": "markdown",
   "metadata": {},
   "source": [
    "# Observation-2\n",
    "\n",
    "用和上面一樣的欄位當特徵好了"
   ]
  },
  {
   "cell_type": "code",
   "execution_count": 10,
   "metadata": {},
   "outputs": [
    {
     "name": "stdout",
     "output_type": "stream",
     "text": [
      "           tau1      tau2      tau3      tau4        p1        p2        p3  \\\n",
      "tau1   1.000000  0.017850 -0.005636 -0.026600  0.027020 -0.012637 -0.012770   \n",
      "tau2   0.017850  1.000000  0.016199 -0.004845 -0.007029  0.006309  0.010765   \n",
      "tau3  -0.005636  0.016199  1.000000  0.001828  0.023754 -0.011417 -0.013230   \n",
      "tau4  -0.026600 -0.004845  0.001828  1.000000 -0.001910  0.013132  0.003682   \n",
      "p1     0.027020 -0.007029  0.023754 -0.001910  1.000000 -0.566958 -0.586881   \n",
      "p2    -0.012637  0.006309 -0.011417  0.013132 -0.566958  1.000000 -0.003291   \n",
      "p3    -0.012770  0.010765 -0.013230  0.003682 -0.586881 -0.003291  1.000000   \n",
      "p4    -0.021418 -0.004935 -0.016505 -0.013511 -0.578513 -0.012077  0.015901   \n",
      "g1     0.016730 -0.004182 -0.006658 -0.004155  0.007875  0.016238 -0.009597   \n",
      "g2     0.018458  0.029437 -0.001149  0.004132  0.020186 -0.019218 -0.015035   \n",
      "g3     0.005032  0.013988  0.014070 -0.002416 -0.000775  0.009069 -0.005191   \n",
      "g4     0.007672 -0.012708 -0.015641 -0.008245 -0.003471  0.012101 -0.010904   \n",
      "stab   0.284568  0.295903  0.280357  0.265811  0.015566  0.003352 -0.003554   \n",
      "stabf -0.245580 -0.253324 -0.239990 -0.229256 -0.013787 -0.005944  0.002682   \n",
      "\n",
      "             p4        g1        g2        g3        g4      stab     stabf  \n",
      "tau1  -0.021418  0.016730  0.018458  0.005032  0.007672  0.284568 -0.245580  \n",
      "tau2  -0.004935 -0.004182  0.029437  0.013988 -0.012708  0.295903 -0.253324  \n",
      "tau3  -0.016505 -0.006658 -0.001149  0.014070 -0.015641  0.280357 -0.239990  \n",
      "tau4  -0.013511 -0.004155  0.004132 -0.002416 -0.008245  0.265811 -0.229256  \n",
      "p1    -0.578513  0.007875  0.020186 -0.000775 -0.003471  0.015566 -0.013787  \n",
      "p2    -0.012077  0.016238 -0.019218  0.009069  0.012101  0.003352 -0.005944  \n",
      "p3     0.015901 -0.009597 -0.015035 -0.005191 -0.010904 -0.003554  0.002682  \n",
      "p4     1.000000 -0.020239 -0.000704 -0.002496  0.004900 -0.026788  0.027167  \n",
      "g1    -0.020239  1.000000  0.003539  0.005018  0.003301  0.288616 -0.208214  \n",
      "g2    -0.000704  0.003539  1.000000 -0.014175 -0.015855  0.287859 -0.210687  \n",
      "g3    -0.002496  0.005018 -0.014175  1.000000  0.016836  0.314619 -0.239425  \n",
      "g4     0.004900  0.003301 -0.015855  0.016836  1.000000  0.279347 -0.201649  \n",
      "stab  -0.026788  0.288616  0.287859  0.314619  0.279347  1.000000 -0.826836  \n",
      "stabf  0.027167 -0.208214 -0.210687 -0.239425 -0.201649 -0.826836  1.000000  \n"
     ]
    }
   ],
   "source": [
    "del test['stabf']\n",
    "\n",
    "print(data.corr())\n"
   ]
  },
  {
   "cell_type": "markdown",
   "metadata": {},
   "source": [
    "# trainning-2\n",
    "\n",
    "參考下圖的regression方法\n",
    "![Image of sk](https://scikit-learn.org/stable/_static/ml_map.png)"
   ]
  },
  {
   "cell_type": "code",
   "execution_count": 11,
   "metadata": {},
   "outputs": [],
   "source": [
    "from sklearn.linear_model import SGDRegressor, LinearRegression\n",
    "from sklearn.metrics import r2_score, mean_squared_error, mean_absolute_error\n",
    "\n",
    "train_y = data['stab']\n",
    "test_y = test['stab']\n",
    "\n",
    "train_x = data[['tau1', 'tau2', 'tau3', 'tau4', 'g1', 'g2', 'g3', 'g4']]\n",
    "test_x = test[['tau1', 'tau2', 'tau3', 'tau4', 'g1', 'g2', 'g3', 'g4']]"
   ]
  },
  {
   "cell_type": "markdown",
   "metadata": {},
   "source": [
    "先用SGDRegressor看看 r2_score(越接近1越好)"
   ]
  },
  {
   "cell_type": "code",
   "execution_count": 12,
   "metadata": {},
   "outputs": [
    {
     "name": "stdout",
     "output_type": "stream",
     "text": [
      "0.5360686939805197\n",
      "0.0006299199834734732\n",
      "0.020951237022387686\n"
     ]
    }
   ],
   "source": [
    "model = SGDRegressor(random_state=1012)\n",
    "model.fit(train_x, train_y)\n",
    "y_predict = model.predict(test_x)\n",
    "\n",
    "\n",
    "print(r2_score(test_y, y_predict))\n",
    "print(mean_squared_error(test_y, y_predict))\n",
    "print(mean_absolute_error(test_y, y_predict))"
   ]
  },
  {
   "cell_type": "markdown",
   "metadata": {},
   "source": [
    "普普通通\n",
    "再試試LinearRegression吧"
   ]
  },
  {
   "cell_type": "code",
   "execution_count": 13,
   "metadata": {},
   "outputs": [
    {
     "name": "stdout",
     "output_type": "stream",
     "text": [
      "train:\n",
      "0.6517022754582176\n",
      "0.0004751308593851816\n",
      "0.01730721650090147\n",
      "test:\n",
      "0.6266840589404927\n",
      "0.0005068836018854798\n",
      "0.017812583317906548\n"
     ]
    }
   ],
   "source": [
    "model = LinearRegression()\n",
    "model.fit(train_x, train_y)\n",
    "\n",
    "y_predict = model.predict(train_x)\n",
    "print(\"train:\")\n",
    "print(r2_score(train_y, y_predict))\n",
    "print(mean_squared_error(train_y, y_predict))\n",
    "print(mean_absolute_error(train_y, y_predict))\n",
    "\n",
    "print(\"test:\")\n",
    "y_predict = model.predict(test_x)\n",
    "print(r2_score(test_y, y_predict))\n",
    "print(mean_squared_error(test_y, y_predict))\n",
    "print(mean_absolute_error(test_y, y_predict))"
   ]
  },
  {
   "cell_type": "markdown",
   "metadata": {},
   "source": [
    "不過上面是1次式的，以下對LinearRegression選用不同order的多項式來訓練"
   ]
  },
  {
   "cell_type": "code",
   "execution_count": 14,
   "metadata": {},
   "outputs": [
    {
     "name": "stdout",
     "output_type": "stream",
     "text": [
      "poly order 1\n",
      "train:\n",
      "0.6517022754582176\n",
      "0.0004751308593851816\n",
      "0.017307216500901453\n",
      "test:\n",
      "0.6266840589404925\n",
      "0.00050688360188548\n",
      "0.01781258331790653\n",
      "\n",
      "poly order 2\n",
      "train:\n",
      "0.8908923041303781\n",
      "0.00014883942573059097\n",
      "0.009202546218523178\n",
      "test:\n",
      "0.8898830542414189\n",
      "0.00014951537814411297\n",
      "0.00916597835225065\n",
      "\n",
      "poly order 3\n",
      "train:\n",
      "0.9496601051179812\n",
      "6.86712425357348e-05\n",
      "0.00581562617254721\n",
      "test:\n",
      "0.9476675771686008\n",
      "7.105629324289997e-05\n",
      "0.005914660858584581\n",
      "\n",
      "poly order 4\n",
      "train:\n",
      "0.9685205644421757\n",
      "4.2942718874280975e-05\n",
      "0.004485760053887283\n",
      "test:\n",
      "0.9616079251587764\n",
      "5.212826734413227e-05\n",
      "0.004920564017162625\n",
      "\n",
      "poly order 5\n",
      "train:\n",
      "0.9802246823575743\n",
      "2.6976528998062786e-05\n",
      "0.0034953898104923536\n",
      "test:\n",
      "0.9638043783094408\n",
      "4.9145951396890236e-05\n",
      "0.004519945783536085\n",
      "\n",
      "poly order 6\n",
      "train:\n",
      "0.9895841203686085\n",
      "1.4208837703508937e-05\n",
      "0.0026251857711232555\n",
      "test:\n",
      "0.9478093972646785\n",
      "7.086373173343013e-05\n",
      "0.005176570502009488\n",
      "\n"
     ]
    }
   ],
   "source": [
    "from sklearn.pipeline import Pipeline\n",
    "from sklearn.preprocessing import PolynomialFeatures\n",
    "\n",
    "degrees = [1, 2, 3, 4, 5, 6]\n",
    "for i in range(len(degrees)):\n",
    "    polynomial_features = PolynomialFeatures(degree=degrees[i], include_bias=False)\n",
    "    model = LinearRegression()\n",
    "    pipeline = Pipeline([(\"polynomial_features\", polynomial_features), (\"linear_regression\", model)])\n",
    "    pipeline.fit(train_x, train_y)\n",
    "    model = pipeline\n",
    "    print(\"poly order \"+str(degrees[i]))\n",
    "    print(\"train:\")\n",
    "    y_predict = model.predict(train_x)\n",
    "    print(r2_score(train_y, y_predict))\n",
    "    print(mean_squared_error(train_y, y_predict))\n",
    "    print(mean_absolute_error(train_y, y_predict))\n",
    "\n",
    "    print(\"test:\")\n",
    "    y_predict = model.predict(test_x)\n",
    "    print(r2_score(test_y, y_predict))\n",
    "    print(mean_squared_error(test_y, y_predict))\n",
    "    print(mean_absolute_error(test_y, y_predict))\n",
    "    print()"
   ]
  },
  {
   "cell_type": "markdown",
   "metadata": {},
   "source": [
    "## 可以看到test的表現在4或5次式時最好，到了6次時又掉下去，故應該選4或5次式來做LinearRegression"
   ]
  },
  {
   "cell_type": "markdown",
   "metadata": {},
   "source": [
    "\n",
    "\n",
    "再換svr試試"
   ]
  },
  {
   "cell_type": "code",
   "execution_count": 15,
   "metadata": {},
   "outputs": [
    {
     "name": "stdout",
     "output_type": "stream",
     "text": [
      "-0.0014437053816760415\n",
      "0.0013597474327743488\n",
      "0.03129049164906002\n"
     ]
    }
   ],
   "source": [
    "from sklearn.svm import SVR\n",
    "\n",
    "model = SVR(kernel='rbf')\n",
    "model.fit(train_x, train_y)\n",
    "y_predict = model.predict(test_x)\n",
    "\n",
    "\n",
    "print(r2_score(test_y, y_predict))\n",
    "print(mean_squared_error(test_y, y_predict))\n",
    "print(mean_absolute_error(test_y, y_predict))"
   ]
  },
  {
   "cell_type": "markdown",
   "metadata": {},
   "source": [
    "反而變爛了...\n",
    "\n",
    "最後試一下lasso"
   ]
  },
  {
   "cell_type": "code",
   "execution_count": 16,
   "metadata": {},
   "outputs": [
    {
     "name": "stdout",
     "output_type": "stream",
     "text": [
      "-9.64651303281272e-08\n",
      "0.0013577873190828307\n",
      "0.03123453096863861\n"
     ]
    }
   ],
   "source": [
    "from sklearn.linear_model import Lasso\n",
    "\n",
    "model = Lasso(random_state=1012)\n",
    "model.fit(train_x, train_y)\n",
    "y_predict = model.predict(test_x)\n",
    "\n",
    "\n",
    "print(r2_score(test_y, y_predict))\n",
    "print(mean_squared_error(test_y, y_predict))\n",
    "print(mean_absolute_error(test_y, y_predict))"
   ]
  },
  {
   "cell_type": "markdown",
   "metadata": {},
   "source": [
    "好吧更爛...\n",
    "\n",
    "## 最後結論用LinearRegression的4或5次式時最好，而且結果還蠻準確的"
   ]
  }
 ],
 "metadata": {
  "kernelspec": {
   "display_name": "Python 3",
   "language": "python",
   "name": "python3"
  },
  "language_info": {
   "codemirror_mode": {
    "name": "ipython",
    "version": 3
   },
   "file_extension": ".py",
   "mimetype": "text/x-python",
   "name": "python",
   "nbconvert_exporter": "python",
   "pygments_lexer": "ipython3",
   "version": "3.7.3"
  }
 },
 "nbformat": 4,
 "nbformat_minor": 2
}
